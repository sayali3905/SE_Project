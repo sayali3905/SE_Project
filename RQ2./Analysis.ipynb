import pandas as pd
import numpy as np
from sklearn.metrics.pairwise import cosine_similarity
import scipy.stats as stats
import matplotlib.pyplot as plt


try:
    df = pd.read_csv('./FINAL SE DATA.csv')
except FileNotFoundError:
    print("Error: CSV file not found. Please provide the correct file path.")
    exit()

numeric_cols = ['stars', 'issues', 'open_prs', 'closed_prs', 'total_prs', 'size_mb', 'total_LOC', 'test_LOC']
for col in numeric_cols:
    df[col] = pd.to_numeric(df[col].astype(str).str.replace(',', '.'), errors='coerce')

df.dropna(subset=['total_LOC', 'test_LOC', 'closed_prs'], inplace=True)

features = ['total_LOC', 'test_LOC', 'closed_prs']
feature_matrix = df[features].values

similarity_matrix = cosine_similarity(feature_matrix)

test_loc_total_loc_corr_pearson, test_loc_total_loc_p_value_pearson = stats.pearsonr(df['test_LOC'], df['total_LOC'])
test_loc_closed_prs_corr_pearson, test_loc_closed_prs_p_value_pearson = stats.pearsonr(df['test_LOC'], df['closed_prs'])

test_loc_total_loc_corr_spearman, test_loc_total_loc_p_value_spearman = stats.spearmanr(df['test_LOC'], df['total_LOC'])
test_loc_closed_prs_corr_spearman, test_loc_closed_prs_p_value_spearman = stats.spearmanr(df['test_LOC'], df['closed_prs'])

print("Test LOC vs. Total LOC:")
print(f"  Pearson Correlation: {test_loc_total_loc_corr_pearson:.2f}, P-value: {test_loc_total_loc_p_value_pearson:.3f}")
print(f"  Spearman Correlation: {test_loc_total_loc_corr_spearman:.2f}, P-value: {test_loc_total_loc_p_value_spearman:.3f}")

print("\nTest LOC vs. Closed PRs:")
print(f"  Pearson Correlation: {test_loc_closed_prs_corr_pearson:.2f}, P-value: {test_loc_closed_prs_p_value_pearson:.3f}")
print(f"  Spearman Correlation: {test_loc_closed_prs_corr_spearman:.2f}, P-value: {test_loc_closed_prs_p_value_spearman:.3f}")


plt.figure(figsize=(12, 6))

plt.subplot(1, 2, 1)
plt.scatter(df['total_LOC'], df['test_LOC'], alpha=0.5)
plt.title('Test LOC vs. Total LOC')
plt.xlabel('Total Lines of Code')
plt.ylabel('Test Lines of Code')
plt.grid(True)

plt.subplot(1, 2, 2)
plt.scatter(df['test_LOC'], df['closed_prs'], alpha=0.5)
plt.title('Test LOC vs. Closed PRs (Proxy for New Features)')
plt.xlabel('Test Lines of Code')
plt.ylabel('Closed Pull Requests')
plt.grid(True)

plt.tight_layout()
plt.show()


print("\nAddressing RQ2:")

def interpret_correlation(correlation, p_value):
    alpha = 0.05
    if p_value < alpha:
        print("Correlation is statistically significant.")
    else:
        print("Correlation is not statistically significant.")

    strength = abs(correlation)
    if strength > 0.7:
        return "Strong"
    elif strength > 0.5:
        return "Moderate"
    elif strength > 0.3:
        return "Weak"
    else:
        return "Very Weak or No"

strength_loc = interpret_correlation(test_loc_total_loc_corr_pearson, test_loc_total_loc_p_value_pearson)
strength_prs = interpret_correlation(test_loc_closed_prs_corr_pearson, test_loc_closed_prs_p_value_pearson)

print(f"The analysis found a {strength_loc} correlation between test LOC and total LOC.")
print(f"The analysis found a {strength_prs} correlation between test LOC and closed PRs (proxy for new features).")
