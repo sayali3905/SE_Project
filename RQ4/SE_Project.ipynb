{
 "cells": [
  {
   "cell_type": "code",
   "execution_count": 16,
   "id": "0e40fc94-1343-497c-9b29-8e47f5a712b4",
   "metadata": {},
   "outputs": [
    {
     "name": "stdout",
     "output_type": "stream",
     "text": [
      "First 5 rows Below : \n",
      "                        repo_name  stars  issues  open_prs  closed_prs  \\\n",
      "0                   alibaba/nacos  30811     242        13        4134   \n",
      "1                   alibaba/canal  28794    1156        62         635   \n",
      "2  OpenAPITools/openapi-generator  22745    5122       516       11242   \n",
      "3             pockethub/PocketHub   9386     127         2         628   \n",
      "4          java-native-access/jna   8616     107        14         830   \n",
      "\n",
      "   total_prs language  is_fork  \\\n",
      "0       4147     Java    False   \n",
      "1        697     Java    False   \n",
      "2      11758     Java    False   \n",
      "3        630     Java    False   \n",
      "4        844     Java    False   \n",
      "\n",
      "                                                 url  size_mb  uses_travis  \\\n",
      "0                   https://github.com/alibaba/nacos    59.37         True   \n",
      "1                   https://github.com/alibaba/canal    23.52         True   \n",
      "2  https://github.com/OpenAPITools/openapi-generator   881.42         True   \n",
      "3             https://github.com/pockethub/PocketHub    11.67         True   \n",
      "4          https://github.com/java-native-access/jna   698.90         True   \n",
      "\n",
      "     travis_start_date       travis_end_date  travis_duration_days  total_LOC  \\\n",
      "0  2018-07-20 16:27:23  2021-06-17T12:23:37Z                  1062     241467   \n",
      "1   2019-03-21 8:16:31  2021-06-17T09:44:23Z                   819     113319   \n",
      "2  2014-02-05 17:08:14  2025-02-14T18:42:49Z                  4027    3319769   \n",
      "3  2012-11-15 19:01:32  2020-10-01T10:20:12Z                  2876      31550   \n",
      "4  2014-06-25 20:27:17  2023-01-30T15:32:30Z                  3140     163492   \n",
      "\n",
      "   test_LOC  commits_before_CI  commits_after_CI  \n",
      "0        46                  0              5167  \n",
      "1        23               1124               556  \n",
      "2       218               1034             19872  \n",
      "3        25               2127              1385  \n",
      "4        29               2581              1604  \n",
      "\n",
      " Description Below : \n",
      "              stars       issues    open_prs    closed_prs     total_prs  \\\n",
      "count     70.000000    70.000000   70.000000     70.000000     70.000000   \n",
      "mean   11172.900000   517.957143   63.900000   2484.985714   2548.885714   \n",
      "std    12112.361113   663.103495  111.582185   4155.586889   4231.880051   \n",
      "min     1988.000000   100.000000    0.000000    116.000000    134.000000   \n",
      "25%     3449.250000   231.750000    8.250000    338.750000    409.250000   \n",
      "50%     4955.000000   344.500000   25.000000    864.000000    907.500000   \n",
      "75%    12602.750000   566.250000   52.500000   2652.500000   2679.250000   \n",
      "max    48682.000000  5122.000000  516.000000  23869.000000  24081.000000   \n",
      "\n",
      "           size_mb  travis_duration_days     total_LOC    test_LOC  \\\n",
      "count    70.000000             70.000000  7.000000e+01   70.000000   \n",
      "mean    251.984857           2321.400000  8.854662e+05   89.600000   \n",
      "std     571.485597           1245.262924  2.520103e+06  137.916421   \n",
      "min      10.160000             97.000000  2.226000e+03    6.000000   \n",
      "25%      27.932500           1259.750000  8.773025e+04   23.250000   \n",
      "50%      77.295000           2582.000000  2.574685e+05   43.000000   \n",
      "75%     175.600000           3199.750000  5.958572e+05   93.500000   \n",
      "max    4250.920000           4829.000000  1.814621e+07  887.000000   \n",
      "\n",
      "       commits_before_CI  commits_after_CI  \n",
      "count          70.000000         70.000000  \n",
      "mean         3388.085714       8696.142857  \n",
      "std          6597.882282      18208.505758  \n",
      "min             0.000000         70.000000  \n",
      "25%           254.750000       1195.500000  \n",
      "50%          1227.500000       2686.500000  \n",
      "75%          2952.250000       6162.500000  \n",
      "max         37414.000000     105251.000000  \n",
      "\n",
      " CI Projects - Numeric Columns with NaN values:\n",
      "stars                   0\n",
      "issues                  0\n",
      "open_prs                0\n",
      "closed_prs              0\n",
      "total_prs               0\n",
      "size_mb                 0\n",
      "travis_duration_days    0\n",
      "total_LOC               0\n",
      "test_LOC                0\n",
      "commits_before_CI       0\n",
      "commits_after_CI        0\n",
      "dtype: int64\n",
      "\n",
      " CI Projects - Numeric Columns Variance:\n",
      "stars                   1.467093e+08\n",
      "issues                  4.397062e+05\n",
      "open_prs                1.245058e+04\n",
      "closed_prs              1.726890e+07\n",
      "total_prs               1.790881e+07\n",
      "size_mb                 3.265958e+05\n",
      "travis_duration_days    1.550680e+06\n",
      "total_LOC               6.350918e+12\n",
      "test_LOC                1.902094e+04\n",
      "commits_before_CI       4.353205e+07\n",
      "commits_after_CI        3.315497e+08\n",
      "dtype: float64\n",
      "\n",
      " CI Projects Data Types:\n",
      "repo_name                object\n",
      "stars                     int64\n",
      "issues                    int64\n",
      "open_prs                  int64\n",
      "closed_prs                int64\n",
      "total_prs                 int64\n",
      "language                 object\n",
      "is_fork                    bool\n",
      "url                      object\n",
      "size_mb                 float64\n",
      "uses_travis                bool\n",
      "travis_start_date        object\n",
      "travis_end_date          object\n",
      "travis_duration_days      int64\n",
      "total_LOC                 int64\n",
      "test_LOC                  int64\n",
      "commits_before_CI         int64\n",
      "commits_after_CI          int64\n",
      "dtype: object\n"
     ]
    }
   ],
   "source": [
    "import pandas as pd \n",
    "import matplotlib.pyplot as plt\n",
    "import seaborn as sns\n",
    "from scipy import stats\n",
    "\n",
    "ci_df = pd.read_csv('FINAL SE DATA.csv')\n",
    "\n",
    "print(\"First 5 rows Below : \")\n",
    "print(ci_df.head())\n",
    "print(\"\\n Description Below : \")\n",
    "print(ci_df.describe())\n",
    "print(\"\\n CI Projects - Numeric Columns with NaN values:\")\n",
    "print(ci_df.select_dtypes(include=['number']).isna().sum())\n",
    "print(\"\\n CI Projects - Numeric Columns Variance:\")\n",
    "print(ci_df.select_dtypes(include=['number']).var())\n",
    "print(\"\\n CI Projects Data Types:\")\n",
    "print(ci_df.dtypes)\n"
   ]
  },
  {
   "cell_type": "code",
   "execution_count": 2,
   "id": "20aed4e7-9e2f-4825-bebd-eb4403e5c081",
   "metadata": {},
   "outputs": [
    {
     "name": "stdout",
     "output_type": "stream",
     "text": [
      "0         inf\n",
      "1    0.020463\n",
      "2    0.210832\n",
      "3    0.011754\n",
      "4    0.011236\n",
      "Name: BeforeCI_Ratio, dtype: float64\n",
      "0    0.008903\n",
      "1    0.041367\n",
      "2    0.010970\n",
      "3    0.018051\n",
      "4    0.018080\n",
      "Name: AfterCI_Ratio, dtype: float64\n"
     ]
    },
    {
     "data": {
      "image/png": "[encoded data removed]",
      "text/plain": [
       "<Figure size 800x600 with 1 Axes>"
      ]
     },
     "metadata": {},
     "output_type": "display_data"
    }
   ],
   "source": [
    "#Calculating and Plotiing Commit Based Test Code Ratio \n",
    "ci_df['BeforeCI_Ratio'] = ci_df['test_LOC'] / ci_df['commits_before_CI']\n",
    "print(ci_df['BeforeCI_Ratio'].head())\n",
    "ci_df['AfterCI_Ratio'] = ci_df['test_LOC'] / ci_df['commits_after_CI']\n",
    "print(ci_df['AfterCI_Ratio'].head())\n",
    "plt.figure(figsize=(8, 6))\n",
    "sns.boxplot(data=ci_df[['BeforeCI_Ratio', 'AfterCI_Ratio']])  \n",
    "plt.title('Boxplot of Before CI Adoption vs After CI Adoption ')\n",
    "plt.ylim(0.0, 0.4)\n",
    "plt.ylabel('Commit Based Test Ratio')\n",
    "plt.show()"
   ]
  },
  {
   "cell_type": "code",
   "execution_count": 3,
   "id": "20c78d60-aa73-4fc6-b11b-155fb7f74a6c",
   "metadata": {},
   "outputs": [
    {
     "name": "stdout",
     "output_type": "stream",
     "text": [
      "Average Code Coverage Percentage is  0.1025049241217113\n"
     ]
    }
   ],
   "source": [
    "#Calculating Code Coverage Percentage \n",
    "ci_df['Code_Coverage'] = ci_df['test_LOC'] / ci_df['total_LOC'] \n",
    "mean_value = ci_df['Code_Coverage'].mean()\n",
    "print(\"Average Code Coverage Percentage is \",mean_value*100)"
   ]
  },
  {
   "cell_type": "code",
   "execution_count": 12,
   "id": "c546b69d-16ad-4a18-a910-db05c0b1aca9",
   "metadata": {},
   "outputs": [
    {
     "name": "stdout",
     "output_type": "stream",
     "text": [
      "Shapiro Test p-value: nan\n",
      "T-statistic: nan\n",
      "P-value: nan\n",
      "No significant difference between Before and After CI test ratios.\n"
     ]
    }
   ],
   "source": [
    "#Perfroming Shapiro and Paired T-Test \n",
    "stat, p_value = stats.shapiro(ci_df['BeforeCI_Ratio'] - ci_df['AfterCI_Ratio'])\n",
    "print(f\"Shapiro Test p-value: {p_value}\")\n",
    "t_stat, p_val = stats.ttest_rel(ci_df['BeforeCI_Ratio'], ci_df['AfterCI_Ratio'])\n",
    "\n",
    "print(f\"T-statistic: {t_stat}\")\n",
    "print(f\"P-value: {p_val}\")\n",
    "\n",
    "alpha = 0.05\n",
    "if p_val < alpha:\n",
    "    print(\"Statistically significant difference between Before and After CI test ratios.\")\n",
    "else:\n",
    "    print(\"No significant difference between Before and After CI test ratios.\")\n"
   ]
  },
  {
   "cell_type": "code",
   "execution_count": 14,
   "id": "aaa6bc36-f56e-4826-95e5-6b2bd972081d",
   "metadata": {},
   "outputs": [
    {
     "name": "stdout",
     "output_type": "stream",
     "text": [
      "Wilcoxon Test Statistic: nan\n",
      "Wilcoxon P-value: nan\n",
      "No significant difference between Before and After CI test ratios.\n"
     ]
    }
   ],
   "source": [
    "#Performing Wilcoxon Signed-Rank Test.\n",
    "w_stat, p_val = stats.wilcoxon(ci_df['BeforeCI_Ratio'], ci_df['AfterCI_Ratio'])\n",
    "print(f\"Wilcoxon Test Statistic: {w_stat}\")\n",
    "print(f\"Wilcoxon P-value: {p_val}\")\n",
    "\n",
    "alpha = 0.05\n",
    "if p_val < alpha:\n",
    "    print(\"Statistically significant difference between Before and After CI test ratios.\")\n",
    "else:\n",
    "    print(\"No significant difference between Before and After CI test ratios.\")"
   ]
  },
  {
   "cell_type": "code",
   "execution_count": null,
   "id": "842f7496-7efc-43ef-b1df-c91c0eb86cfe",
   "metadata": {},
   "outputs": [],
   "source": []
  }
 ],
 "metadata": {
  "kernelspec": {
   "display_name": "Python [conda env:base] *",
   "language": "python",
   "name": "conda-base-py"
  },
  "language_info": {
   "codemirror_mode": {
    "name": "ipython",
    "version": 3
   },
   "file_extension": ".py",
   "mimetype": "text/x-python",
   "name": "python",
   "nbconvert_exporter": "python",
   "pygments_lexer": "ipython3",
   "version": "3.12.7"
  }
 },
 "nbformat": 4,
 "nbformat_minor": 5
}
